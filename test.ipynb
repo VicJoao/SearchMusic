{
 "cells": [
  {
   "cell_type": "code",
   "execution_count": 3,
   "id": "initial_id",
   "metadata": {
    "collapsed": true,
    "ExecuteTime": {
     "end_time": "2023-11-16T14:48:41.241882900Z",
     "start_time": "2023-11-16T14:48:25.471431500Z"
    }
   },
   "outputs": [],
   "source": [
    "# Open csv lyrics-data.csv\n",
    "import csv\n",
    "import os\n",
    "import pandas as pd\n",
    "\n",
    "csvpath = os.path.join('lyrics-data.csv')"
   ]
  },
  {
   "cell_type": "code",
   "execution_count": 4,
   "outputs": [
    {
     "name": "stdout",
     "output_type": "stream",
     "text": [
      "CSV Header: ['ALink', 'SName', 'SLink', 'Lyric', 'language']\n"
     ]
    }
   ],
   "source": [
    "with open(csvpath, newline='') as csvfile:\n",
    "    csvreader = csv.reader(csvfile, delimiter=',')\n",
    "    csv_header = next(csvreader)\n",
    "    print(f\"CSV Header: {csv_header}\")"
   ],
   "metadata": {
    "collapsed": false,
    "ExecuteTime": {
     "end_time": "2023-11-16T14:48:53.003924800Z",
     "start_time": "2023-11-16T14:48:52.971319600Z"
    }
   },
   "id": "9134f50817e025ee"
  },
  {
   "cell_type": "code",
   "execution_count": 5,
   "outputs": [
    {
     "data": {
      "text/plain": "             ALink                            SName  \\\n0  /ivete-sangalo/                            Arerê   \n1  /ivete-sangalo/  Se Eu Não Te Amasse Tanto Assim   \n2  /ivete-sangalo/                      Céu da Boca   \n3  /ivete-sangalo/            Quando A Chuva Passar   \n4  /ivete-sangalo/                     Sorte Grande   \n\n                                               SLink  \\\n0                          /ivete-sangalo/arere.html   \n1  /ivete-sangalo/se-eu-nao-te-amasse-tanto-assim...   \n2                     /ivete-sangalo/chupa-toda.html   \n3          /ivete-sangalo/quando-a-chuva-passar.html   \n4                   /ivete-sangalo/sorte-grande.html   \n\n                                               Lyric language  \n0  Tudo o que eu quero nessa vida,\\nToda vida, é\\...       pt  \n1  Meu coração\\nSem direção\\nVoando só por voar\\n...       pt  \n2  É de babaixá!\\nÉ de balacubaca!\\nÉ de babaixá!...       pt  \n3  Quando a chuva passar\\n\\nPra quê falar\\nSe voc...       pt  \n4  A minha sorte grande foi você cair do céu\\nMin...       pt  ",
      "text/html": "<div>\n<style scoped>\n    .dataframe tbody tr th:only-of-type {\n        vertical-align: middle;\n    }\n\n    .dataframe tbody tr th {\n        vertical-align: top;\n    }\n\n    .dataframe thead th {\n        text-align: right;\n    }\n</style>\n<table border=\"1\" class=\"dataframe\">\n  <thead>\n    <tr style=\"text-align: right;\">\n      <th></th>\n      <th>ALink</th>\n      <th>SName</th>\n      <th>SLink</th>\n      <th>Lyric</th>\n      <th>language</th>\n    </tr>\n  </thead>\n  <tbody>\n    <tr>\n      <th>0</th>\n      <td>/ivete-sangalo/</td>\n      <td>Arerê</td>\n      <td>/ivete-sangalo/arere.html</td>\n      <td>Tudo o que eu quero nessa vida,\\nToda vida, é\\...</td>\n      <td>pt</td>\n    </tr>\n    <tr>\n      <th>1</th>\n      <td>/ivete-sangalo/</td>\n      <td>Se Eu Não Te Amasse Tanto Assim</td>\n      <td>/ivete-sangalo/se-eu-nao-te-amasse-tanto-assim...</td>\n      <td>Meu coração\\nSem direção\\nVoando só por voar\\n...</td>\n      <td>pt</td>\n    </tr>\n    <tr>\n      <th>2</th>\n      <td>/ivete-sangalo/</td>\n      <td>Céu da Boca</td>\n      <td>/ivete-sangalo/chupa-toda.html</td>\n      <td>É de babaixá!\\nÉ de balacubaca!\\nÉ de babaixá!...</td>\n      <td>pt</td>\n    </tr>\n    <tr>\n      <th>3</th>\n      <td>/ivete-sangalo/</td>\n      <td>Quando A Chuva Passar</td>\n      <td>/ivete-sangalo/quando-a-chuva-passar.html</td>\n      <td>Quando a chuva passar\\n\\nPra quê falar\\nSe voc...</td>\n      <td>pt</td>\n    </tr>\n    <tr>\n      <th>4</th>\n      <td>/ivete-sangalo/</td>\n      <td>Sorte Grande</td>\n      <td>/ivete-sangalo/sorte-grande.html</td>\n      <td>A minha sorte grande foi você cair do céu\\nMin...</td>\n      <td>pt</td>\n    </tr>\n  </tbody>\n</table>\n</div>"
     },
     "execution_count": 5,
     "metadata": {},
     "output_type": "execute_result"
    }
   ],
   "source": [
    "lyrics_df = pd.read_csv(csvpath)\n",
    "lyrics_df.head()"
   ],
   "metadata": {
    "collapsed": false,
    "ExecuteTime": {
     "end_time": "2023-11-16T14:49:03.374214100Z",
     "start_time": "2023-11-16T14:48:54.678625500Z"
    }
   },
   "id": "de2ef4b55b0f6914"
  },
  {
   "cell_type": "code",
   "execution_count": 6,
   "outputs": [
    {
     "data": {
      "text/plain": "(379931, 5)"
     },
     "execution_count": 6,
     "metadata": {},
     "output_type": "execute_result"
    }
   ],
   "source": [
    "lyrics_df.shape"
   ],
   "metadata": {
    "collapsed": false,
    "ExecuteTime": {
     "end_time": "2023-11-16T14:49:26.319110900Z",
     "start_time": "2023-11-16T14:49:26.248576Z"
    }
   },
   "id": "70e33a99a5e195ba"
  },
  {
   "cell_type": "code",
   "execution_count": 7,
   "outputs": [
    {
     "data": {
      "text/plain": "4238"
     },
     "execution_count": 7,
     "metadata": {},
     "output_type": "execute_result"
    }
   ],
   "source": [
    "lyrics_df['ALink'].nunique()"
   ],
   "metadata": {
    "collapsed": false,
    "ExecuteTime": {
     "end_time": "2023-11-16T14:50:03.491702700Z",
     "start_time": "2023-11-16T14:50:03.405468700Z"
    }
   },
   "id": "d90ffe480d7a59de"
  },
  {
   "cell_type": "code",
   "execution_count": 9,
   "outputs": [
    {
     "data": {
      "text/plain": "                  ALink                                          SName  \\\n0       /ivete-sangalo/                                          Arerê   \n1       /ivete-sangalo/                Se Eu Não Te Amasse Tanto Assim   \n2       /ivete-sangalo/                                    Céu da Boca   \n3       /ivete-sangalo/                          Quando A Chuva Passar   \n4       /ivete-sangalo/                                   Sorte Grande   \n...                 ...                                            ...   \n379926   /clegg-johnny/                                    The Waiting   \n379927   /clegg-johnny/                          Too Early For The Sky   \n379928   /clegg-johnny/  Warsaw 1943 (I Never Betrayed The Revolution)   \n379929   /clegg-johnny/                     When The System Has Fallen   \n379930   /clegg-johnny/                            Woman Be My Country   \n\n                                                    SLink  \\\n0                               /ivete-sangalo/arere.html   \n1       /ivete-sangalo/se-eu-nao-te-amasse-tanto-assim...   \n2                          /ivete-sangalo/chupa-toda.html   \n3               /ivete-sangalo/quando-a-chuva-passar.html   \n4                        /ivete-sangalo/sorte-grande.html   \n...                                                   ...   \n379926                     /clegg-johnny/the-waiting.html   \n379927           /clegg-johnny/too-early-for-the-sky.html   \n379928  /clegg-johnny/warsaw-1943-i-never-betrayed-the...   \n379929      /clegg-johnny/when-the-system-has-fallen.html   \n379930             /clegg-johnny/woman-be-my-country.html   \n\n                                                    Lyric language  \n0       Tudo o que eu quero nessa vida,\\nToda vida, é\\...       pt  \n1       Meu coração\\nSem direção\\nVoando só por voar\\n...       pt  \n2       É de babaixá!\\nÉ de balacubaca!\\nÉ de babaixá!...       pt  \n3       Quando a chuva passar\\n\\nPra quê falar\\nSe voc...       pt  \n4       A minha sorte grande foi você cair do céu\\nMin...       pt  \n...                                                   ...      ...  \n379926  Chorus\\nHere we stand waiting on the plain\\nDa...       en  \n379927  I nearly disappeared into the mouth of a croco...       en  \n379928  Amambuka, amambuka azothengisa izwe lakithi, i...       en  \n379929  Sweat in the heat for days on end\\nwaiting for...       en  \n379930  Here we stand on the edge of the day\\nFaces me...       en  \n\n[379931 rows x 5 columns]",
      "text/html": "<div>\n<style scoped>\n    .dataframe tbody tr th:only-of-type {\n        vertical-align: middle;\n    }\n\n    .dataframe tbody tr th {\n        vertical-align: top;\n    }\n\n    .dataframe thead th {\n        text-align: right;\n    }\n</style>\n<table border=\"1\" class=\"dataframe\">\n  <thead>\n    <tr style=\"text-align: right;\">\n      <th></th>\n      <th>ALink</th>\n      <th>SName</th>\n      <th>SLink</th>\n      <th>Lyric</th>\n      <th>language</th>\n    </tr>\n  </thead>\n  <tbody>\n    <tr>\n      <th>0</th>\n      <td>/ivete-sangalo/</td>\n      <td>Arerê</td>\n      <td>/ivete-sangalo/arere.html</td>\n      <td>Tudo o que eu quero nessa vida,\\nToda vida, é\\...</td>\n      <td>pt</td>\n    </tr>\n    <tr>\n      <th>1</th>\n      <td>/ivete-sangalo/</td>\n      <td>Se Eu Não Te Amasse Tanto Assim</td>\n      <td>/ivete-sangalo/se-eu-nao-te-amasse-tanto-assim...</td>\n      <td>Meu coração\\nSem direção\\nVoando só por voar\\n...</td>\n      <td>pt</td>\n    </tr>\n    <tr>\n      <th>2</th>\n      <td>/ivete-sangalo/</td>\n      <td>Céu da Boca</td>\n      <td>/ivete-sangalo/chupa-toda.html</td>\n      <td>É de babaixá!\\nÉ de balacubaca!\\nÉ de babaixá!...</td>\n      <td>pt</td>\n    </tr>\n    <tr>\n      <th>3</th>\n      <td>/ivete-sangalo/</td>\n      <td>Quando A Chuva Passar</td>\n      <td>/ivete-sangalo/quando-a-chuva-passar.html</td>\n      <td>Quando a chuva passar\\n\\nPra quê falar\\nSe voc...</td>\n      <td>pt</td>\n    </tr>\n    <tr>\n      <th>4</th>\n      <td>/ivete-sangalo/</td>\n      <td>Sorte Grande</td>\n      <td>/ivete-sangalo/sorte-grande.html</td>\n      <td>A minha sorte grande foi você cair do céu\\nMin...</td>\n      <td>pt</td>\n    </tr>\n    <tr>\n      <th>...</th>\n      <td>...</td>\n      <td>...</td>\n      <td>...</td>\n      <td>...</td>\n      <td>...</td>\n    </tr>\n    <tr>\n      <th>379926</th>\n      <td>/clegg-johnny/</td>\n      <td>The Waiting</td>\n      <td>/clegg-johnny/the-waiting.html</td>\n      <td>Chorus\\nHere we stand waiting on the plain\\nDa...</td>\n      <td>en</td>\n    </tr>\n    <tr>\n      <th>379927</th>\n      <td>/clegg-johnny/</td>\n      <td>Too Early For The Sky</td>\n      <td>/clegg-johnny/too-early-for-the-sky.html</td>\n      <td>I nearly disappeared into the mouth of a croco...</td>\n      <td>en</td>\n    </tr>\n    <tr>\n      <th>379928</th>\n      <td>/clegg-johnny/</td>\n      <td>Warsaw 1943 (I Never Betrayed The Revolution)</td>\n      <td>/clegg-johnny/warsaw-1943-i-never-betrayed-the...</td>\n      <td>Amambuka, amambuka azothengisa izwe lakithi, i...</td>\n      <td>en</td>\n    </tr>\n    <tr>\n      <th>379929</th>\n      <td>/clegg-johnny/</td>\n      <td>When The System Has Fallen</td>\n      <td>/clegg-johnny/when-the-system-has-fallen.html</td>\n      <td>Sweat in the heat for days on end\\nwaiting for...</td>\n      <td>en</td>\n    </tr>\n    <tr>\n      <th>379930</th>\n      <td>/clegg-johnny/</td>\n      <td>Woman Be My Country</td>\n      <td>/clegg-johnny/woman-be-my-country.html</td>\n      <td>Here we stand on the edge of the day\\nFaces me...</td>\n      <td>en</td>\n    </tr>\n  </tbody>\n</table>\n<p>379931 rows × 5 columns</p>\n</div>"
     },
     "execution_count": 9,
     "metadata": {},
     "output_type": "execute_result"
    }
   ],
   "source": [
    "lyrics_df"
   ],
   "metadata": {
    "collapsed": false,
    "ExecuteTime": {
     "end_time": "2023-11-16T14:50:26.255047800Z",
     "start_time": "2023-11-16T14:50:26.193110400Z"
    }
   },
   "id": "53b549ec901898fb"
  },
  {
   "cell_type": "code",
   "execution_count": null,
   "outputs": [],
   "source": [],
   "metadata": {
    "collapsed": false
   },
   "id": "fe22b542af93d8b1"
  }
 ],
 "metadata": {
  "kernelspec": {
   "display_name": "Python 3",
   "language": "python",
   "name": "python3"
  },
  "language_info": {
   "codemirror_mode": {
    "name": "ipython",
    "version": 2
   },
   "file_extension": ".py",
   "mimetype": "text/x-python",
   "name": "python",
   "nbconvert_exporter": "python",
   "pygments_lexer": "ipython2",
   "version": "2.7.6"
  }
 },
 "nbformat": 4,
 "nbformat_minor": 5
}
