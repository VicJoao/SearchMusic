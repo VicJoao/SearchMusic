{
 "cells": [
  {
   "cell_type": "code",
   "execution_count": 92,
   "outputs": [],
   "source": [
    "import joblib\n",
    "from sklearn.feature_extraction.text import TfidfVectorizer\n",
    "from sklearn.metrics.pairwise import linear_kernel\n",
    "import os\n",
    "import re\n"
   ],
   "metadata": {
    "collapsed": false,
    "ExecuteTime": {
     "end_time": "2023-11-16T22:31:57.319438200Z",
     "start_time": "2023-11-16T22:31:57.313929700Z"
    }
   },
   "id": "b5b51af0a647eb59"
  },
  {
   "cell_type": "code",
   "execution_count": 93,
   "outputs": [],
   "source": [
    "def preprocess(text):\n",
    "    # Substituir caracteres não alfabéticos por espaços em branco\n",
    "    text = re.sub(r'[^a-zA-Zá-úÁ-Ú]', ' ', text)\n",
    "\n",
    "    # Converter para minúsculas e dividir em palavras\n",
    "    tokens = text.lower().split()\n",
    "\n",
    "    return ' '.join(tokens)"
   ],
   "metadata": {
    "collapsed": false,
    "ExecuteTime": {
     "end_time": "2023-11-16T22:31:57.949430300Z",
     "start_time": "2023-11-16T22:31:57.910321900Z"
    }
   },
   "id": "b29941d49594743d"
  },
  {
   "cell_type": "code",
   "execution_count": 94,
   "outputs": [],
   "source": [
    "def load_lyrics():\n",
    "    return joblib.load('lyrics_vector.joblib')\n"
   ],
   "metadata": {
    "collapsed": false,
    "ExecuteTime": {
     "end_time": "2023-11-16T22:31:58.621395500Z",
     "start_time": "2023-11-16T22:31:58.605373200Z"
    }
   },
   "id": "6e33b53df89b9a79"
  },
  {
   "cell_type": "code",
   "execution_count": 95,
   "outputs": [],
   "source": [
    "def create_tfidf_matrix(lyrics):\n",
    "    preprocessed_lyrics = [preprocess(text) for text in lyrics]\n",
    "    vectorizer = TfidfVectorizer()\n",
    "    tfidf_matrix = vectorizer.fit_transform(preprocessed_lyrics)\n",
    "    return tfidf_matrix, vectorizer\n"
   ],
   "metadata": {
    "collapsed": false,
    "ExecuteTime": {
     "end_time": "2023-11-16T22:31:59.004372100Z",
     "start_time": "2023-11-16T22:31:58.991728200Z"
    }
   },
   "id": "429eb807aca68026"
  },
  {
   "cell_type": "code",
   "execution_count": 114,
   "outputs": [],
   "source": [
    "def perform_query(query, vectorizer, tfidf_matrix, lyrics):\n",
    "    preprocessed_query = preprocess(query)\n",
    "    print(f\"\\nConsulta: {preprocessed_query}\")\n",
    "    query_vector = vectorizer.transform([preprocessed_query])\n",
    "\n",
    "    # Calcular similaridade\n",
    "    cosine_similarities = linear_kernel(query_vector, tfidf_matrix).flatten()\n",
    "\n",
    "    # Contar o número de ocorrências da sequência na consulta\n",
    "    sequence_count = preprocessed_query.count(' ')\n",
    "    \n",
    "    if sequence_count == 0:\n",
    "        sequence_count = 1\n",
    "\n",
    "    # Adicionar um fator de prioridade para palavras em sequência\n",
    "    sequence_priority = 100.0  # Ajuste conforme necessário\n",
    "    for i in range(len(lyrics)):\n",
    "        document = lyrics[i]\n",
    "        occurrences = document.lower().count(preprocessed_query)\n",
    "        cosine_similarities[i] += sequence_priority * occurrences / sequence_count\n",
    "\n",
    "    document_scores = list(enumerate(cosine_similarities))\n",
    "    sorted_documents = sorted(document_scores, key=lambda x: x[1], reverse=True)\n",
    "\n",
    "    # Imprimir resultados\n",
    "    print(\"\\nResultados:\")\n",
    "    for index, score in sorted_documents[:5]:\n",
    "        print(\n",
    "            f\"Arquivo: {os.listdir('C:/Users/miguel/Documents/UFV/6 PERIODO/GRADI/musics-txt')[index]}, Pontuação: {score}\")\n"
   ],
   "metadata": {
    "collapsed": false,
    "ExecuteTime": {
     "end_time": "2023-11-16T22:50:19.858026600Z",
     "start_time": "2023-11-16T22:50:19.843974300Z"
    }
   },
   "id": "5a39a28c1679eb7b"
  },
  {
   "cell_type": "code",
   "execution_count": 97,
   "outputs": [
    {
     "name": "stdout",
     "output_type": "stream",
     "text": [
      "Carregando letras...\n",
      "Criando matriz TF-IDF...\n",
      "Dimensões da matriz TF-IDF: (379679, 544933)\n"
     ]
    }
   ],
   "source": [
    "\n",
    "# Carregar vetor de letras\n",
    "print(\"Carregando letras...\")\n",
    "lyrics = load_lyrics()\n",
    "\n",
    "# Criar matriz TF-IDF\n",
    "print(\"Criando matriz TF-IDF...\")\n",
    "tfidf_matrix, vectorizer = create_tfidf_matrix(lyrics)\n",
    "print(f\"Dimensões da matriz TF-IDF: {tfidf_matrix.shape}\")"
   ],
   "metadata": {
    "collapsed": false,
    "ExecuteTime": {
     "end_time": "2023-11-16T22:34:01.035634200Z",
     "start_time": "2023-11-16T22:32:00.084164300Z"
    }
   },
   "id": "1256b4927f0cd244"
  },
  {
   "cell_type": "code",
   "execution_count": 115,
   "outputs": [
    {
     "name": "stdout",
     "output_type": "stream",
     "text": [
      "\n",
      "Consulta: borboletas\n",
      "\n",
      "Resultados:\n",
      "Arquivo: adriana-partimpim - As Borboletas.txt, Pontuação: 1400.7454202424724\n",
      "Arquivo: amado-batista - Borboletas.txt, Pontuação: 1300.8895286722866\n",
      "Arquivo: elba-ramalho - A Dança Das Borboletas.txt, Pontuação: 500.3572833968989\n",
      "Arquivo: ze-ramalho - A Dança Das Borboletas.txt, Pontuação: 500.32132190166357\n",
      "Arquivo: palavra-cantada - A primavera da lagarta.txt, Pontuação: 500.16328012887465\n",
      "\n",
      "Consulta: broboletas sempre voltam\n",
      "\n",
      "Resultados:\n",
      "Arquivo: ary-barroso - Quem Me Compreende.txt, Pontuação: 0.4145190162974804\n",
      "Arquivo: anjos-anonimos - Mercúrio.txt, Pontuação: 0.3724580622081762\n",
      "Arquivo: especial-de-ano-todo - Maio.txt, Pontuação: 0.3698479049854334\n",
      "Arquivo: leno-e-lilian - Dias Iguais.txt, Pontuação: 0.362181531864885\n",
      "Arquivo: sandy - Pés Cansados.txt, Pontuação: 0.30163262226088566\n",
      "\n",
      "Consulta: ô mamae áfrica ô mamae áfrica\n",
      "\n",
      "Resultados:\n",
      "Arquivo: edson-gomes - Meus Direitos.txt, Pontuação: 0.7988048274134205\n",
      "Arquivo: ponto-de-equilibrio - Movimento Africano Africa Ii.txt, Pontuação: 0.500434345606408\n",
      "Arquivo: a-familia - Não Se Esqueça da África.txt, Pontuação: 0.49592117603437846\n",
      "Arquivo: marcelo-crivella - África.txt, Pontuação: 0.4824982320639109\n",
      "Arquivo: ponto-de-equilibrio - África 2.txt, Pontuação: 0.4272907031713724\n",
      "\n",
      "Consulta: tanto tempo que a gente está assim\n",
      "\n",
      "Resultados:\n",
      "Arquivo: edson-gomes - Meus Direitos.txt, Pontuação: 33.46804806677494\n",
      "Arquivo: rick-e-renner - Tanto Tempo Longe de Você.txt, Pontuação: 0.5662009031698718\n",
      "Arquivo: cezar-paulinho - Tanto Tempo Longe de Você.txt, Pontuação: 0.5523480290311371\n",
      "Arquivo: petrucio-amorim - Tanto Tempo Tanto Amor.txt, Pontuação: 0.5027930601538368\n",
      "Arquivo: cesar-menotti-fabiano - Tempo Pra Amar.txt, Pontuação: 0.4961414812444573\n",
      "\n",
      "Consulta: \n",
      "\n",
      "Resultados:\n",
      "Arquivo: avenged-sevenfold - Save Me tablatura.txt, Pontuação: 6328900.0\n",
      "Arquivo: children-of-bodom - Lobodomy tablatura.txt, Pontuação: 5720200.0\n",
      "Arquivo: children-of-bodom - Banned From Heaven tablatura.txt, Pontuação: 5650600.0\n",
      "Arquivo: children-of-bodom - Hellhounds On My Trail tablatura.txt, Pontuação: 5535600.0\n",
      "Arquivo: children-of-bodom - Smile Pretty For The Devil tablatura.txt, Pontuação: 5522800.0\n",
      "\n",
      "Consulta: sem ter habitação\n",
      "\n",
      "Resultados:\n",
      "Arquivo: edson-gomes - Meus Direitos.txt, Pontuação: 50.09360366288699\n",
      "Arquivo: ludmila-ferber - Soltar A Voz.txt, Pontuação: 0.5522154025432574\n",
      "Arquivo: ludmila-ferber - Eu Amo Senhor.txt, Pontuação: 0.3907531650961239\n",
      "Arquivo: cantor-cristao - Comunhão Celeste.txt, Pontuação: 0.33503569501465086\n",
      "Arquivo: joao-lucas-e-marcelo - Pra Me Ter.txt, Pontuação: 0.31247409569299067\n",
      "\n",
      "Consulta: \n"
     ]
    },
    {
     "ename": "KeyboardInterrupt",
     "evalue": "",
     "output_type": "error",
     "traceback": [
      "\u001B[1;31m---------------------------------------------------------------------------\u001B[0m",
      "\u001B[1;31mKeyboardInterrupt\u001B[0m                         Traceback (most recent call last)",
      "Cell \u001B[1;32mIn[115], line 11\u001B[0m\n\u001B[0;32m      7\u001B[0m         perform_query(query, vectorizer, tfidf_matrix, lyrics)\n\u001B[0;32m     10\u001B[0m \u001B[38;5;28;01mif\u001B[39;00m \u001B[38;5;18m__name__\u001B[39m \u001B[38;5;241m==\u001B[39m \u001B[38;5;124m\"\u001B[39m\u001B[38;5;124m__main__\u001B[39m\u001B[38;5;124m\"\u001B[39m:\n\u001B[1;32m---> 11\u001B[0m     \u001B[43mmain\u001B[49m\u001B[43m(\u001B[49m\u001B[43m)\u001B[49m\n",
      "Cell \u001B[1;32mIn[115], line 7\u001B[0m, in \u001B[0;36mmain\u001B[1;34m()\u001B[0m\n\u001B[0;32m      5\u001B[0m \u001B[38;5;28;01mif\u001B[39;00m query\u001B[38;5;241m.\u001B[39mlower() \u001B[38;5;241m==\u001B[39m \u001B[38;5;124m'\u001B[39m\u001B[38;5;124mexit\u001B[39m\u001B[38;5;124m'\u001B[39m:\n\u001B[0;32m      6\u001B[0m     \u001B[38;5;28;01mbreak\u001B[39;00m\n\u001B[1;32m----> 7\u001B[0m \u001B[43mperform_query\u001B[49m\u001B[43m(\u001B[49m\u001B[43mquery\u001B[49m\u001B[43m,\u001B[49m\u001B[43m \u001B[49m\u001B[43mvectorizer\u001B[49m\u001B[43m,\u001B[49m\u001B[43m \u001B[49m\u001B[43mtfidf_matrix\u001B[49m\u001B[43m,\u001B[49m\u001B[43m \u001B[49m\u001B[43mlyrics\u001B[49m\u001B[43m)\u001B[49m\n",
      "Cell \u001B[1;32mIn[114], line 19\u001B[0m, in \u001B[0;36mperform_query\u001B[1;34m(query, vectorizer, tfidf_matrix, lyrics)\u001B[0m\n\u001B[0;32m     17\u001B[0m \u001B[38;5;28;01mfor\u001B[39;00m i \u001B[38;5;129;01min\u001B[39;00m \u001B[38;5;28mrange\u001B[39m(\u001B[38;5;28mlen\u001B[39m(lyrics)):\n\u001B[0;32m     18\u001B[0m     document \u001B[38;5;241m=\u001B[39m lyrics[i]\n\u001B[1;32m---> 19\u001B[0m     occurrences \u001B[38;5;241m=\u001B[39m \u001B[43mdocument\u001B[49m\u001B[38;5;241;43m.\u001B[39;49m\u001B[43mlower\u001B[49m\u001B[43m(\u001B[49m\u001B[43m)\u001B[49m\u001B[38;5;241;43m.\u001B[39;49m\u001B[43mcount\u001B[49m\u001B[43m(\u001B[49m\u001B[43mpreprocessed_query\u001B[49m\u001B[43m)\u001B[49m\n\u001B[0;32m     20\u001B[0m     cosine_similarities[i] \u001B[38;5;241m+\u001B[39m\u001B[38;5;241m=\u001B[39m sequence_priority \u001B[38;5;241m*\u001B[39m occurrences \u001B[38;5;241m/\u001B[39m sequence_count\n\u001B[0;32m     22\u001B[0m document_scores \u001B[38;5;241m=\u001B[39m \u001B[38;5;28mlist\u001B[39m(\u001B[38;5;28menumerate\u001B[39m(cosine_similarities))\n",
      "\u001B[1;31mKeyboardInterrupt\u001B[0m: "
     ]
    }
   ],
   "source": [
    "def main():\n",
    "    # Menu de inserção de consulta\n",
    "    while True:\n",
    "        query = input(\"\\nInsira sua consulta (ou 'exit' para sair): \")\n",
    "        if query.lower() == 'exit':\n",
    "            break\n",
    "        perform_query(query, vectorizer, tfidf_matrix, lyrics)\n",
    "\n",
    "\n",
    "if __name__ == \"__main__\":\n",
    "    main()"
   ],
   "metadata": {
    "collapsed": false,
    "ExecuteTime": {
     "end_time": "2023-11-16T22:53:41.600842900Z",
     "start_time": "2023-11-16T22:50:21.772724500Z"
    }
   },
   "id": "765fea29b506765f"
  }
 ],
 "metadata": {
  "kernelspec": {
   "display_name": "Python 3",
   "language": "python",
   "name": "python3"
  },
  "language_info": {
   "codemirror_mode": {
    "name": "ipython",
    "version": 2
   },
   "file_extension": ".py",
   "mimetype": "text/x-python",
   "name": "python",
   "nbconvert_exporter": "python",
   "pygments_lexer": "ipython2",
   "version": "2.7.6"
  }
 },
 "nbformat": 4,
 "nbformat_minor": 5
}
