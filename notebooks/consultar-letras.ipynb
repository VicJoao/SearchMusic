{
 "cells": [
  {
   "cell_type": "code",
   "execution_count": 24,
   "outputs": [],
   "source": [
    "import joblib\n",
    "from sklearn.feature_extraction.text import TfidfVectorizer\n",
    "from sklearn.metrics.pairwise import linear_kernel\n",
    "import os\n",
    "import re\n",
    "from unidecode import unidecode"
   ],
   "metadata": {
    "collapsed": false,
    "ExecuteTime": {
     "end_time": "2023-11-17T02:09:08.031146100Z",
     "start_time": "2023-11-17T02:09:08.006754100Z"
    }
   },
   "id": "b5b51af0a647eb59"
  },
  {
   "cell_type": "code",
   "execution_count": 25,
   "outputs": [],
   "source": [
    "def preprocess(text):\n",
    "    # Remover acentos\n",
    "    text = unidecode(text)\n",
    "\n",
    "    # Substituir caracteres não alfabéticos (incluindo vírgula) por espaços em branco\n",
    "    text = re.sub(r'[^a-zA-Z]', ' ', text)\n",
    "\n",
    "    # Converter para minúsculas e dividir em palavras\n",
    "    tokens = text.lower().split()\n",
    "\n",
    "    return ' '.join(tokens)"
   ],
   "metadata": {
    "collapsed": false,
    "ExecuteTime": {
     "end_time": "2023-11-17T02:09:08.031146100Z",
     "start_time": "2023-11-17T02:09:08.016683400Z"
    }
   },
   "id": "b29941d49594743d"
  },
  {
   "cell_type": "code",
   "execution_count": 26,
   "outputs": [],
   "source": [
    "def load_lyrics():\n",
    "    # Certifique-se de que os dados carregados são textos brutos antes do pré-processamento\n",
    "    raw_lyrics =  joblib.load('../lyrics_vector.joblib')\n",
    "    return [preprocess(text) for text in raw_lyrics]\n",
    "\n"
   ],
   "metadata": {
    "collapsed": false,
    "ExecuteTime": {
     "end_time": "2023-11-17T02:09:08.139423700Z",
     "start_time": "2023-11-17T02:09:08.021046Z"
    }
   },
   "id": "6e33b53df89b9a79"
  },
  {
   "cell_type": "code",
   "execution_count": 27,
   "outputs": [],
   "source": [
    "def create_tfidf_matrix(lyrics):\n",
    "    vectorizer = TfidfVectorizer()\n",
    "    tfidf_matrix = vectorizer.fit_transform(lyrics)\n",
    "    return tfidf_matrix, vectorizer\n"
   ],
   "metadata": {
    "collapsed": false,
    "ExecuteTime": {
     "end_time": "2023-11-17T02:09:08.139423700Z",
     "start_time": "2023-11-17T02:09:08.031146100Z"
    }
   },
   "id": "429eb807aca68026"
  },
  {
   "cell_type": "code",
   "execution_count": 28,
   "outputs": [],
   "source": [
    "def perform_query(query, vectorizer, tfidf_matrix, lyrics):\n",
    "    preprocessed_query = preprocess(query)\n",
    "    print(f\"\\nConsulta: {preprocessed_query}\")\n",
    "    query_vector = vectorizer.transform([preprocessed_query])\n",
    "\n",
    "    # Calcular similaridade\n",
    "    cosine_similarities = linear_kernel(query_vector, tfidf_matrix).flatten()\n",
    "\n",
    "    # Adicionar um fator de prioridade para palavras em sequência\n",
    "    sequence_priority = 100.0  # Ajuste conforme necessário\n",
    "    for i in range(len(lyrics)):\n",
    "        document = lyrics[i]\n",
    "        occurrences = document.lower().count(preprocessed_query)\n",
    "        cosine_similarities[i] += sequence_priority * occurrences\n",
    "\n",
    "    document_scores = list(enumerate(cosine_similarities))\n",
    "    sorted_documents = sorted(document_scores, key=lambda x: x[1], reverse=True)\n",
    "\n",
    "    # Imprimir resultados\n",
    "    print(\"\\nResultados:\")\n",
    "    for index, score in sorted_documents[:5]:\n",
    "        print(\n",
    "            f\"Arquivo: {os.listdir('C:/Users/miguel/Documents/UFV/6 PERIODO/GRADI/musics-txt')[index]}, Pontuação: {score}\")\n"
   ],
   "metadata": {
    "collapsed": false,
    "ExecuteTime": {
     "end_time": "2023-11-17T02:09:08.139423700Z",
     "start_time": "2023-11-17T02:09:08.053728700Z"
    }
   },
   "id": "5a39a28c1679eb7b"
  },
  {
   "cell_type": "code",
   "execution_count": 29,
   "outputs": [
    {
     "name": "stdout",
     "output_type": "stream",
     "text": [
      "Carregando letras...\n",
      "Criando matriz TF-IDF...\n",
      "Dimensões da matriz TF-IDF: (379679, 522857)\n"
     ]
    }
   ],
   "source": [
    "\n",
    "# Carregar vetor de letras\n",
    "print(\"Carregando letras...\")\n",
    "lyrics = load_lyrics()\n",
    "\n",
    "# Criar matriz TF-IDF\n",
    "print(\"Criando matriz TF-IDF...\")\n",
    "tfidf_matrix, vectorizer = create_tfidf_matrix(lyrics)\n",
    "print(f\"Dimensões da matriz TF-IDF: {tfidf_matrix.shape}\")"
   ],
   "metadata": {
    "collapsed": false,
    "ExecuteTime": {
     "end_time": "2023-11-17T02:12:07.434295700Z",
     "start_time": "2023-11-17T02:09:08.094509Z"
    }
   },
   "id": "1256b4927f0cd244"
  },
  {
   "cell_type": "code",
   "execution_count": 32,
   "outputs": [
    {
     "name": "stdout",
     "output_type": "stream",
     "text": [
      "\n",
      "Consulta: to sou seu\n",
      "\n",
      "Resultados:\n",
      "Arquivo: fred-e-gustavo - Tó Sou Seu Part. Wesley Safadão.txt, Pontuação: 800.3496341233813\n",
      "Arquivo: fred-e-gustavo - Tô Só Seu.txt, Pontuação: 800.3496341233813\n",
      "Arquivo: nando-reis - Monóico.txt, Pontuação: 100.31266847403462\n",
      "Arquivo: filosofia-reggae - O Meu Coração É Seu.txt, Pontuação: 100.27056531934427\n",
      "Arquivo: so-pra-contrariar - Ela É Jogo Duro.txt, Pontuação: 100.16071311878486\n",
      "\n",
      "Consulta: to sou seu to sou seu\n",
      "\n",
      "Resultados:\n",
      "Arquivo: fred-e-gustavo - Tó Sou Seu Part. Wesley Safadão.txt, Pontuação: 400.3496341233813\n",
      "Arquivo: fred-e-gustavo - Tô Só Seu.txt, Pontuação: 400.3496341233813\n",
      "Arquivo: adriana-calcanhoto - Intimidade Sou Seu.txt, Pontuação: 0.7931469363384632\n",
      "Arquivo: paulo-ricardo - Viver Um Grande Amor.txt, Pontuação: 0.7207289781475179\n",
      "Arquivo: grupo-show-de-bola-2 - Anjo da Guarda.txt, Pontuação: 0.6712494619080783\n",
      "\n",
      "Consulta: \n",
      "\n",
      "Resultados:\n"
     ]
    },
    {
     "ename": "KeyboardInterrupt",
     "evalue": "",
     "output_type": "error",
     "traceback": [
      "\u001B[1;31m---------------------------------------------------------------------------\u001B[0m",
      "\u001B[1;31mKeyboardInterrupt\u001B[0m                         Traceback (most recent call last)",
      "Cell \u001B[1;32mIn[32], line 11\u001B[0m\n\u001B[0;32m      7\u001B[0m         perform_query(query, vectorizer, tfidf_matrix, lyrics)\n\u001B[0;32m     10\u001B[0m \u001B[38;5;28;01mif\u001B[39;00m \u001B[38;5;18m__name__\u001B[39m \u001B[38;5;241m==\u001B[39m \u001B[38;5;124m\"\u001B[39m\u001B[38;5;124m__main__\u001B[39m\u001B[38;5;124m\"\u001B[39m:\n\u001B[1;32m---> 11\u001B[0m     \u001B[43mmain\u001B[49m\u001B[43m(\u001B[49m\u001B[43m)\u001B[49m\n",
      "Cell \u001B[1;32mIn[32], line 7\u001B[0m, in \u001B[0;36mmain\u001B[1;34m()\u001B[0m\n\u001B[0;32m      5\u001B[0m \u001B[38;5;28;01mif\u001B[39;00m query\u001B[38;5;241m.\u001B[39mlower() \u001B[38;5;241m==\u001B[39m \u001B[38;5;124m'\u001B[39m\u001B[38;5;124mexit\u001B[39m\u001B[38;5;124m'\u001B[39m:\n\u001B[0;32m      6\u001B[0m     \u001B[38;5;28;01mbreak\u001B[39;00m\n\u001B[1;32m----> 7\u001B[0m \u001B[43mperform_query\u001B[49m\u001B[43m(\u001B[49m\u001B[43mquery\u001B[49m\u001B[43m,\u001B[49m\u001B[43m \u001B[49m\u001B[43mvectorizer\u001B[49m\u001B[43m,\u001B[49m\u001B[43m \u001B[49m\u001B[43mtfidf_matrix\u001B[49m\u001B[43m,\u001B[49m\u001B[43m \u001B[49m\u001B[43mlyrics\u001B[49m\u001B[43m)\u001B[49m\n",
      "Cell \u001B[1;32mIn[28], line 23\u001B[0m, in \u001B[0;36mperform_query\u001B[1;34m(query, vectorizer, tfidf_matrix, lyrics)\u001B[0m\n\u001B[0;32m     20\u001B[0m \u001B[38;5;28mprint\u001B[39m(\u001B[38;5;124m\"\u001B[39m\u001B[38;5;130;01m\\n\u001B[39;00m\u001B[38;5;124mResultados:\u001B[39m\u001B[38;5;124m\"\u001B[39m)\n\u001B[0;32m     21\u001B[0m \u001B[38;5;28;01mfor\u001B[39;00m index, score \u001B[38;5;129;01min\u001B[39;00m sorted_documents[:\u001B[38;5;241m5\u001B[39m]:\n\u001B[0;32m     22\u001B[0m     \u001B[38;5;28mprint\u001B[39m(\n\u001B[1;32m---> 23\u001B[0m         \u001B[38;5;124mf\u001B[39m\u001B[38;5;124m\"\u001B[39m\u001B[38;5;124mArquivo: \u001B[39m\u001B[38;5;132;01m{\u001B[39;00m\u001B[43mos\u001B[49m\u001B[38;5;241;43m.\u001B[39;49m\u001B[43mlistdir\u001B[49m\u001B[43m(\u001B[49m\u001B[38;5;124;43m'\u001B[39;49m\u001B[38;5;124;43mC:/Users/miguel/Documents/UFV/6 PERIODO/GRADI/musics-txt\u001B[39;49m\u001B[38;5;124;43m'\u001B[39;49m\u001B[43m)\u001B[49m[index]\u001B[38;5;132;01m}\u001B[39;00m\u001B[38;5;124m, Pontuação: \u001B[39m\u001B[38;5;132;01m{\u001B[39;00mscore\u001B[38;5;132;01m}\u001B[39;00m\u001B[38;5;124m\"\u001B[39m)\n",
      "\u001B[1;31mKeyboardInterrupt\u001B[0m: "
     ]
    }
   ],
   "source": [
    "def main():\n",
    "    # Menu de inserção de consulta\n",
    "    while True:\n",
    "        query = input(\"\\nInsira sua consulta (ou 'exit' para sair): \")\n",
    "        if query.lower() == 'exit':\n",
    "            break\n",
    "        perform_query(query, vectorizer, tfidf_matrix, lyrics)\n",
    "\n",
    "\n",
    "if __name__ == \"__main__\":\n",
    "    main()"
   ],
   "metadata": {
    "collapsed": false,
    "ExecuteTime": {
     "end_time": "2023-11-17T02:13:34.083878Z",
     "start_time": "2023-11-17T02:13:00.933505200Z"
    }
   },
   "id": "765fea29b506765f"
  },
  {
   "cell_type": "code",
   "execution_count": 31,
   "outputs": [],
   "source": [
    "#ver as palavras na matriz\n",
    "\n",
    "\n",
    "\n"
   ],
   "metadata": {
    "collapsed": false,
    "ExecuteTime": {
     "end_time": "2023-11-17T02:12:33.915426900Z",
     "start_time": "2023-11-17T02:12:33.869680500Z"
    }
   },
   "id": "9c50e72ed354cb75"
  },
  {
   "cell_type": "code",
   "execution_count": 31,
   "outputs": [],
   "source": [],
   "metadata": {
    "collapsed": false,
    "ExecuteTime": {
     "end_time": "2023-11-17T02:12:33.915426900Z",
     "start_time": "2023-11-17T02:12:33.881491300Z"
    }
   },
   "id": "c020292b6a451037"
  },
  {
   "cell_type": "code",
   "execution_count": 31,
   "outputs": [],
   "source": [],
   "metadata": {
    "collapsed": false,
    "ExecuteTime": {
     "end_time": "2023-11-17T02:12:33.915426900Z",
     "start_time": "2023-11-17T02:12:33.894222700Z"
    }
   },
   "id": "2e71f4e74e22df75"
  }
 ],
 "metadata": {
  "kernelspec": {
   "display_name": "Python 3",
   "language": "python",
   "name": "python3"
  },
  "language_info": {
   "codemirror_mode": {
    "name": "ipython",
    "version": 2
   },
   "file_extension": ".py",
   "mimetype": "text/x-python",
   "name": "python",
   "nbconvert_exporter": "python",
   "pygments_lexer": "ipython2",
   "version": "2.7.6"
  }
 },
 "nbformat": 4,
 "nbformat_minor": 5
}
