{
 "cells": [
  {
   "cell_type": "code",
   "execution_count": null,
   "outputs": [],
   "source": [
    "def preprocess(text):\n",
    "    # Remover acentos\n",
    "    text = unidecode(text)\n",
    "\n",
    "    # Substituir caracteres não alfabéticos (incluindo vírgula) por espaços em branco\n",
    "    text = re.sub(r'[^a-zA-Z]', ' ', text)\n",
    "\n",
    "    # Converter para minúsculas e dividir em palavras\n",
    "    tokens = text.lower().split()\n",
    "\n",
    "    return ' '.join(tokens)"
   ],
   "metadata": {
    "collapsed": false
   },
   "id": "b29941d49594743d"
  },
  {
   "cell_type": "code",
   "execution_count": null,
   "outputs": [],
   "source": [
    "def load_lyrics():\n",
    "    # Certifique-se de que os dados carregados são textos brutos antes do pré-processamento\n",
    "    raw_lyrics =  joblib.load('../lyrics_vector.joblib')\n",
    "    return [preprocess(text) for text in raw_lyrics]\n",
    "\n"
   ],
   "metadata": {
    "collapsed": false
   },
   "id": "6e33b53df89b9a79"
  },
  {
   "cell_type": "code",
   "execution_count": null,
   "outputs": [],
   "source": [
    "def create_tfidf_matrix(lyrics):\n",
    "    vectorizer = TfidfVectorizer()\n",
    "    tfidf_matrix = vectorizer.fit_transform(lyrics)\n",
    "    return tfidf_matrix, vectorizer\n"
   ],
   "metadata": {
    "collapsed": false
   },
   "id": "429eb807aca68026"
  },
  {
   "cell_type": "code",
   "execution_count": null,
   "outputs": [],
   "source": [
    "def perform_query(query, vectorizer, tfidf_matrix, lyrics):\n",
    "    preprocessed_query = preprocess(query)\n",
    "    print(f\"\\nConsulta: {preprocessed_query}\")\n",
    "    query_vector = vectorizer.transform([preprocessed_query])\n",
    "\n",
    "    # Calcular similaridade\n",
    "    cosine_similarities = linear_kernel(query_vector, tfidf_matrix).flatten()\n",
    "\n",
    "    # Adicionar um fator de prioridade para palavras em sequência\n",
    "    sequence_priority = 100.0  # Ajuste conforme necessário\n",
    "    for i in range(len(lyrics)):\n",
    "        document = lyrics[i]\n",
    "        occurrences = document.lower().count(preprocessed_query)\n",
    "        cosine_similarities[i] += sequence_priority * occurrences\n",
    "\n",
    "    document_scores = list(enumerate(cosine_similarities))\n",
    "    sorted_documents = sorted(document_scores, key=lambda x: x[1], reverse=True)\n",
    "\n",
    "    # Imprimir resultados\n",
    "    print(\"\\nResultados:\")\n",
    "    for index, score in sorted_documents[:5]:\n",
    "        print(\n",
    "            f\"Arquivo: {os.listdir('C:/Users/miguel/Documents/UFV/6 PERIODO/GRADI/musics-txt')[index]}, Pontuação: {score}\")\n"
   ],
   "metadata": {
    "collapsed": false
   },
   "id": "5a39a28c1679eb7b"
  },
  {
   "cell_type": "code",
   "execution_count": null,
   "outputs": [],
   "source": [
    "\n",
    "# Carregar vetor de letras\n",
    "print(\"Carregando letras...\")\n",
    "lyrics = load_lyrics()\n",
    "\n",
    "# Criar matriz TF-IDF\n",
    "print(\"Criando matriz TF-IDF...\")\n",
    "tfidf_matrix, vectorizer = create_tfidf_matrix(lyrics)\n",
    "print(f\"Dimensões da matriz TF-IDF: {tfidf_matrix.shape}\")"
   ],
   "metadata": {
    "collapsed": false
   },
   "id": "1256b4927f0cd244"
  },
  {
   "cell_type": "code",
   "execution_count": null,
   "outputs": [],
   "source": [
    "def main():\n",
    "    # Menu de inserção de consulta\n",
    "    while True:\n",
    "        query = input(\"\\nInsira sua consulta (ou 'exit' para sair): \")\n",
    "        if query.lower() == 'exit':\n",
    "            break\n",
    "        perform_query(query, vectorizer, tfidf_matrix, lyrics)\n",
    "\n",
    "\n",
    "if __name__ == \"__main__\":\n",
    "    main()"
   ],
   "metadata": {
    "collapsed": false
   },
   "id": "765fea29b506765f"
  }
 ],
 "metadata": {
  "kernelspec": {
   "display_name": "Python 3",
   "language": "python",
   "name": "python3"
  },
  "language_info": {
   "codemirror_mode": {
    "name": "ipython",
    "version": 2
   },
   "file_extension": ".py",
   "mimetype": "text/x-python",
   "name": "python",
   "nbconvert_exporter": "python",
   "pygments_lexer": "ipython2",
   "version": "2.7.6"
  }
 },
 "nbformat": 4,
 "nbformat_minor": 5
}
